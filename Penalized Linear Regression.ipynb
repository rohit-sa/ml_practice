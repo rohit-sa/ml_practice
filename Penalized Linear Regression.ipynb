{
 "cells": [
  {
   "cell_type": "code",
   "execution_count": 1,
   "metadata": {
    "collapsed": true
   },
   "outputs": [],
   "source": [
    "%matplotlib inline\n",
    "import copy\n",
    "import numpy as np\n",
    "import pandas as pd\n",
    "import matplotlib.pyplot as plt\n",
    "from sklearn import datasets, linear_model\n",
    "from sklearn.preprocessing import LabelEncoder\n",
    "from sklearn.model_selection import StratifiedShuffleSplit\n",
    "from sklearn.metrics import roc_curve, auc"
   ]
  },
  {
   "cell_type": "code",
   "execution_count": 25,
   "metadata": {
    "collapsed": false
   },
   "outputs": [],
   "source": [
    "target_url = \"http://archive.ics.uci.edu/ml/machine-learning-databases/wine-quality/winequality-red.csv\"\n",
    "data = pd.read_csv(target_url, header=0, sep=';')\n",
    "mean = np.mean(data.values, axis=0)\n",
    "std = np.std(data.values, axis=0)\n",
    "data_norm = data.sub(mean, axis=1)\n",
    "data_norm = data_norm.div(std, axis=1)\n",
    "labels = data['quality']\n",
    "data_norm.drop('quality', axis=1, inplace=True)\n",
    "sss = StratifiedShuffleSplit(n_splits=1, test_size=0.33, random_state=42)\n",
    "for train_index, test_index in sss.split(data_norm.values, labels):\n",
    "    X_train, y_train = data.values[train_index], labels[train_index]\n",
    "    X_test, y_test = data.values[test_index], labels[test_index]"
   ]
  },
  {
   "cell_type": "code",
   "execution_count": 26,
   "metadata": {
    "collapsed": false
   },
   "outputs": [
    {
     "name": "stdout",
     "output_type": "stream",
     "text": [
      "       fixed acidity  volatile acidity   citric acid  residual sugar  \\\n",
      "count   1.599000e+03      1.599000e+03  1.599000e+03    1.599000e+03   \n",
      "mean    3.435512e-16      1.699704e-16  4.335355e-16   -1.905223e-16   \n",
      "std     1.000313e+00      1.000313e+00  1.000313e+00    1.000313e+00   \n",
      "min    -2.137045e+00     -2.278280e+00 -1.391472e+00   -1.162696e+00   \n",
      "25%    -7.007187e-01     -7.699311e-01 -9.293181e-01   -4.532184e-01   \n",
      "50%    -2.410944e-01     -4.368911e-02 -5.636026e-02   -2.403750e-01   \n",
      "75%     5.057952e-01      6.266881e-01  7.652471e-01    4.341614e-02   \n",
      "max     4.355149e+00      5.877976e+00  3.743574e+00    9.195681e+00   \n",
      "\n",
      "          chlorides  free sulfur dioxide  total sulfur dioxide       density  \\\n",
      "count  1.599000e+03         1.599000e+03          1.599000e+03  1.599000e+03   \n",
      "mean   4.838739e-16         1.432042e-16          1.289532e-16  2.336509e-14   \n",
      "std    1.000313e+00         1.000313e+00          1.000313e+00  1.000313e+00   \n",
      "min   -1.603945e+00        -1.422500e+00         -1.230584e+00 -3.538731e+00   \n",
      "25%   -3.712290e-01        -8.487156e-01         -7.440403e-01 -6.077557e-01   \n",
      "50%   -1.799455e-01        -1.793002e-01         -2.574968e-01  1.760083e-03   \n",
      "75%    5.384542e-02         4.901152e-01          4.723184e-01  5.768249e-01   \n",
      "max    1.112703e+01         5.367284e+00          7.375154e+00  3.680055e+00   \n",
      "\n",
      "                 pH     sulphates       alcohol  \n",
      "count  1.599000e+03  1.599000e+03  1.599000e+03  \n",
      "mean   3.002879e-15  7.639596e-16  9.437243e-16  \n",
      "std    1.000313e+00  1.000313e+00  1.000313e+00  \n",
      "min   -3.700401e+00 -1.936507e+00 -1.898919e+00  \n",
      "25%   -6.551405e-01 -6.382196e-01 -8.663789e-01  \n",
      "50%   -7.212705e-03 -2.251281e-01 -2.093081e-01  \n",
      "75%    5.759223e-01  4.240158e-01  6.354971e-01  \n",
      "max    4.528282e+00  7.918677e+00  4.202453e+00  \n"
     ]
    }
   ],
   "source": [
    "print(data_norm.describe())"
   ]
  },
  {
   "cell_type": "code",
   "execution_count": null,
   "metadata": {
    "collapsed": true
   },
   "outputs": [],
   "source": []
  }
 ],
 "metadata": {
  "kernelspec": {
   "display_name": "Python 3",
   "language": "python",
   "name": "python3"
  },
  "language_info": {
   "codemirror_mode": {
    "name": "ipython",
    "version": 3
   },
   "file_extension": ".py",
   "mimetype": "text/x-python",
   "name": "python",
   "nbconvert_exporter": "python",
   "pygments_lexer": "ipython3",
   "version": "3.5.3"
  }
 },
 "nbformat": 4,
 "nbformat_minor": 2
}
