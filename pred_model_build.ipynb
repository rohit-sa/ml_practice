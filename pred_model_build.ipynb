{
 "cells": [
  {
   "cell_type": "code",
   "execution_count": 1,
   "metadata": {
    "collapsed": false
   },
   "outputs": [],
   "source": [
    "%matplotlib inline\n",
    "import copy\n",
    "import numpy as np\n",
    "import pandas as pd\n",
    "import matplotlib.pyplot as plt\n",
    "from sklearn import datasets, linear_model\n",
    "from sklearn.preprocessing import LabelEncoder\n",
    "from sklearn.model_selection import StratifiedShuffleSplit\n",
    "from sklearn.metrics import roc_curve, auc"
   ]
  },
  {
   "cell_type": "code",
   "execution_count": 9,
   "metadata": {
    "collapsed": false
   },
   "outputs": [
    {
     "name": "stdout",
     "output_type": "stream",
     "text": [
      "Error = [1.0, 0.6000000000000001, 1.1999999999999997, -2.5, -2.4, 1.25]\n",
      "Squared Error = [1.0, 0.3600000000000001, 1.4399999999999993, 6.25, 5.76, 1.5625]\n",
      "Absolute Error = [1.0, 0.6000000000000001, 1.1999999999999997, 2.5, 2.4, 1.25]\n",
      "MSE = 2.72875\n",
      "MAE = 1.4916666666666665\n",
      "RMSE = 1.651892853668179\n",
      "Target Variance = 7.570347222222222\n",
      "Target SD = 2.7514263977475797\n"
     ]
    }
   ],
   "source": [
    "target = [1.5, 2.1, 3.3, -4.7, -2.3, 0.75]\n",
    "prediction = [0.5, 1.5, 2.1, -2.2, 0.1, -0.5]\n",
    "error = []\n",
    "squared_error = []\n",
    "abs_error = []\n",
    "for i in range(len(target)):\n",
    "    val = target[i] - prediction[i]\n",
    "    error.append(val)\n",
    "    squared_error.append(val*val)\n",
    "    abs_error.append(abs(val))\n",
    "print('Error = {}'.format(error))\n",
    "print('Squared Error = {}'.format(squared_error))\n",
    "print('Absolute Error = {}'.format(abs_error))\n",
    "\n",
    "print('MSE = {}'.format(sum(squared_error)/len(squared_error)))\n",
    "print('MAE = {}'.format(sum(abs_error)/len(abs_error)))\n",
    "print('RMSE = {}'.format(np.sqrt(sum(squared_error)/len(squared_error))))\n",
    "\n",
    "target_mean = sum(target)/len(target)\n",
    "target_deviation = []\n",
    "for val in target:\n",
    "    target_deviation.append((val-target_mean)*(val-target_mean))\n",
    "target_var = sum(target_deviation)/len(target_deviation)\n",
    "print('Target Variance = {}'.format(target_var))\n",
    "print('Target SD = {}'.format(np.sqrt(target_var)))"
   ]
  },
  {
   "cell_type": "markdown",
   "metadata": {},
   "source": [
    "If RMSE is greater than target's standard deviation then just using the target mean as prediciton is more effective."
   ]
  },
  {
   "cell_type": "markdown",
   "metadata": {},
   "source": [
    "### Measuring Performance for Classifier Trained on Rocks-Versus-Mines"
   ]
  },
  {
   "cell_type": "code",
   "execution_count": 10,
   "metadata": {
    "collapsed": true
   },
   "outputs": [],
   "source": [
    "def confusion_matrix(pred, actual, thresh):\n",
    "    if len(pred)!=len(actual):\n",
    "        return -1\n",
    "    tp = 0.0\n",
    "    fp = 0.0\n",
    "    tn = 0.0\n",
    "    fn = 0.0\n",
    "    for i in range(len(actual)):\n",
    "        if actual[i] > 0.5: #actual label is true\n",
    "            if pred[i] > thresh: #prediction is also true\n",
    "                tp += 1.0 #pred true and actual true\n",
    "            else:\n",
    "                fn += 1.0 #pred false and actual true\n",
    "        else: #actual label is false\n",
    "            if pred[i] < thresh: #prediction is false\n",
    "                tn += 1.0 #pred false and actual false\n",
    "            else:\n",
    "                fn += 1.0 #pred true and actual false\n",
    "    return [tp, fp, tn, fn]\n"
   ]
  },
  {
   "cell_type": "code",
   "execution_count": 11,
   "metadata": {
    "collapsed": false
   },
   "outputs": [
    {
     "name": "stdout",
     "output_type": "stream",
     "text": [
      "[60.0, 0.0, 69.0, 9.0]\n",
      "[24.0, 0.0, 28.0, 17.0]\n"
     ]
    }
   ],
   "source": [
    "target_url = (\"https://archive.ics.uci.edu/ml/machine-learning-databases/undocumented/connectionist-bench/sonar/sonar.all-data\")\n",
    "data = pd.read_csv(target_url, header=0, sep=',')\n",
    "labels = data.iloc[:,60]\n",
    "enc = LabelEncoder()\n",
    "labels = enc.fit_transform(labels)\n",
    "data.drop(data.columns[60], axis=1, inplace=True)\n",
    "sss = StratifiedShuffleSplit(n_splits=1, test_size=0.33, random_state=10)\n",
    "for train_index, test_index in sss.split(data.values,labels):\n",
    "    X_train, y_train = data.values[train_index], labels[train_index]\n",
    "    X_test, y_test = data.values[test_index], labels[test_index]\n",
    "    \n",
    "\n",
    "rm_model = linear_model.LinearRegression()\n",
    "rm_model.fit(X_train, y_train)\n",
    "train_pred = rm_model.predict(X_train)\n",
    "test_pred = rm_model.predict(X_test)\n",
    "\n",
    "print(confusion_matrix(train_pred, y_train, 0.5))\n",
    "print(confusion_matrix(test_pred, y_test, 0.5))\n"
   ]
  },
  {
   "cell_type": "code",
   "execution_count": 12,
   "metadata": {
    "collapsed": false
   },
   "outputs": [
    {
     "data": {
      "image/png": "[encoded data removed]",
      "text/plain": [
       "<matplotlib.figure.Figure at 0x566ebca2e8>"
      ]
     },
     "metadata": {},
     "output_type": "display_data"
    },
    {
     "data": {
      "image/png": "[encoded data removed]",
      "text/plain": [
       "<matplotlib.figure.Figure at 0x566ebbcb00>"
      ]
     },
     "metadata": {},
     "output_type": "display_data"
    }
   ],
   "source": [
    "fpr, tpr, thresholds = roc_curve(y_train, train_pred)\n",
    "roc_auc = auc(fpr, tpr)\n",
    "plt.clf()\n",
    "plt.plot(fpr, tpr, label='ROC curve (area = %0.2f)' % roc_auc)\n",
    "plt.plot([0, 1], [0, 1], 'k')\n",
    "plt.xlabel('False Positive Rate')\n",
    "plt.ylabel('True Positive Rate')\n",
    "plt.title('In sample ROC rocks versus mines')\n",
    "plt.legend(loc=\"lower right\")\n",
    "plt.show()\n",
    "fpr, tpr, thresholds = roc_curve(y_test, test_pred)\n",
    "roc_auc = auc(fpr, tpr)\n",
    "plt.clf()\n",
    "plt.plot(fpr, tpr, label='ROC curve (area = %0.2f)' % roc_auc)\n",
    "plt.plot([0, 1], [0, 1], 'k')\n",
    "plt.xlabel('False Positive Rate')\n",
    "plt.ylabel('True Positive Rate')\n",
    "plt.title('Out sample ROC rocks versus mines')\n",
    "plt.legend(loc=\"lower right\")\n",
    "plt.show()"
   ]
  },
  {
   "cell_type": "markdown",
   "metadata": {
    "collapsed": true
   },
   "source": [
    "### Forward Stepwise Regression: Wine Quality Data"
   ]
  },
  {
   "cell_type": "code",
   "execution_count": 9,
   "metadata": {
    "collapsed": true
   },
   "outputs": [],
   "source": [
    "def third_split(data, labels):\n",
    "    indices = range(data.shape[0])\n",
    "    X_test = np.asarray([data[i] for i in indices if i%3 == 0 ])\n",
    "    y_test = np.asarray([labels[i] for i in indices if i%3 == 0])\n",
    "    X_train = np.asarray([data[i] for i in indices if i%3 != 0 ]) \n",
    "    y_train = np.asarray([labels[i] for i in indices if i%3 != 0])\n",
    "    \n",
    "    return X_train, y_train, X_test, y_test\n"
   ]
  },
  {
   "cell_type": "code",
   "execution_count": 2,
   "metadata": {
    "collapsed": false
   },
   "outputs": [
    {
     "name": "stdout",
     "output_type": "stream",
     "text": [
      "['alcohol', 'volatile acidity', 'sulphates', 'chlorides', 'pH', 'total sulfur dioxide', 'free sulfur dioxide', 'residual sugar', 'density', 'citric acid', 'fixed acidity']\n"
     ]
    },
    {
     "data": {
      "image/png": "[encoded data removed]",
      "text/plain": [
       "<matplotlib.figure.Figure at 0x410dabcfd0>"
      ]
     },
     "metadata": {},
     "output_type": "display_data"
    }
   ],
   "source": [
    "target_url = \"http://archive.ics.uci.edu/ml/machine-learning-databases/wine-quality/winequality-red.csv\"\n",
    "data = pd.read_csv(target_url, header=0, sep=';')\n",
    "labels = data['quality']\n",
    "data.drop('quality', axis=1, inplace=True)\n",
    "sss = StratifiedShuffleSplit(n_splits=1, test_size=0.33, random_state=42)\n",
    "for train_index, test_index in sss.split(data.values, labels):\n",
    "    X_train, y_train = data.values[train_index], labels[train_index]\n",
    "    X_test, y_test = data.values[test_index], labels[test_index]\n",
    "    \n",
    "#X_train, y_train, X_test, y_test = third_split(data.values,labels)\n",
    "\n",
    "n_feature = len(data.columns)\n",
    "test_list = []\n",
    "train_list = []\n",
    "feature_id_set = {i for i in range(n_feature)}\n",
    "feature_list = []\n",
    "out_sample_error = []\n",
    "\n",
    "for i in range(n_feature):\n",
    "    error_log = []\n",
    "    test_feature_list = []\n",
    "    \n",
    "    for j in feature_id_set:\n",
    "        trial_feature_list = copy.deepcopy(train_list)\n",
    "        trial_test_list = copy.deepcopy(test_list)\n",
    "        new_feature = X_train[:,j]\n",
    "        new_test_feature = X_test[:,j]\n",
    "        \n",
    "        trial_feature_list.append(new_feature)\n",
    "        trial_test_list.append(new_test_feature)\n",
    "        \n",
    "        wq_model = linear_model.LinearRegression()\n",
    "        wq_model.fit(np.asarray(trial_feature_list).T, y_train)\n",
    "        test_pred = wq_model.predict(np.asarray(trial_test_list).T)\n",
    "        rms_error = np.linalg.norm(test_pred-y_test, 2)/np.sqrt(len(y_test))\n",
    "        error_log.append(rms_error)\n",
    "        test_feature_list.append(j)\n",
    "        \n",
    "    best_feature_index = np.argmin(error_log)\n",
    "    feature_id = test_feature_list[best_feature_index]\n",
    "    train_list.append(X_train[:,feature_id])\n",
    "    test_list.append(X_test[:,feature_id])\n",
    "    feature_list.append(feature_id)\n",
    "    out_sample_error.append(error_log[best_feature_index])\n",
    "    feature_id_set.remove(feature_id)\n",
    "\n",
    "\n",
    "feature_name_list = [data.columns[i] for i in feature_list]\n",
    "print(feature_name_list)\n",
    "plt.plot(range(n_feature), out_sample_error)\n",
    "plt.xlabel('Features')\n",
    "plt.ylabel('Out sample RMS error')\n",
    "plt.show()"
   ]
  },
  {
   "cell_type": "markdown",
   "metadata": {
    "collapsed": true
   },
   "source": [
    "### Ridge Regression: Wine Quality"
   ]
  },
  {
   "cell_type": "code",
   "execution_count": 10,
   "metadata": {
    "collapsed": false
   },
   "outputs": [
    {
     "data": {
      "image/png": "[encoded data removed]",
      "text/plain": [
       "<matplotlib.figure.Figure at 0x41124c3e80>"
      ]
     },
     "metadata": {},
     "output_type": "display_data"
    }
   ],
   "source": [
    "target_url = \"http://archive.ics.uci.edu/ml/machine-learning-databases/wine-quality/winequality-red.csv\"\n",
    "data = pd.read_csv(target_url, header=0, sep=';')\n",
    "labels = data['quality']\n",
    "data.drop('quality', axis=1, inplace=True)\n",
    "sss = StratifiedShuffleSplit(n_splits=1, test_size=0.33, random_state=42)\n",
    "for train_index, test_index in sss.split(data.values, labels):\n",
    "    X_train, y_train = data.values[train_index], labels[train_index]\n",
    "    X_test, y_test = data.values[test_index], labels[test_index]\n",
    "    \n",
    "X_train, y_train, X_test, y_test = third_split(data.values,labels)\n",
    "\n",
    "n_feature = len(data.columns)\n",
    "out_sample_error = []\n",
    "alpha_range = range(6)\n",
    "alpha_list = np.power(0.1,alpha_range)\n",
    "\n",
    "for a in alpha_list:\n",
    "    wq_ridge_model = linear_model.Ridge(alpha=a)\n",
    "    wq_ridge_model.fit(X_train, y_train)\n",
    "    test_pred = wq_ridge_model.predict(X_test)\n",
    "    rms_error = np.linalg.norm(y_test-test_pred, 2)/np.sqrt(len(y_test))\n",
    "    out_sample_error.append(rms_error)\n",
    "    \n",
    "plt.plot(alpha_range, out_sample_error)\n",
    "plt.xlabel('-log(alpha)')\n",
    "plt.ylabel('Out Sample RMS Error')\n",
    "plt.show()\n",
    "\n",
    "best_alpha_index = np.argmin(out_sample_error)\n",
    "wq_ridge_model.set_params(alpha=alpha_list[best_alpha_index])\n",
    "wq_ridge_model.fit(X_train, y_train)\n",
    "test_pred = wq_ridge_model.predict(X_test)\n"
   ]
  },
  {
   "cell_type": "code",
   "execution_count": 119,
   "metadata": {
    "collapsed": false
   },
   "outputs": [
    {
     "name": "stdout",
     "output_type": "stream",
     "text": [
      "2\n"
     ]
    }
   ],
   "source": []
  },
  {
   "cell_type": "code",
   "execution_count": null,
   "metadata": {
    "collapsed": true
   },
   "outputs": [],
   "source": []
  }
 ],
 "metadata": {
  "kernelspec": {
   "display_name": "Python 3",
   "language": "python",
   "name": "python3"
  },
  "language_info": {
   "codemirror_mode": {
    "name": "ipython",
    "version": 3
   },
   "file_extension": ".py",
   "mimetype": "text/x-python",
   "name": "python",
   "nbconvert_exporter": "python",
   "pygments_lexer": "ipython3",
   "version": "3.5.1"
  }
 },
 "nbformat": 4,
 "nbformat_minor": 2
}
